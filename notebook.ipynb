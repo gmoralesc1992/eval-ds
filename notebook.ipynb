{
 "cells": [
  {
   "cell_type": "markdown",
   "metadata": {},
   "source": [
    "# Prueba Técnica – Elasticidad Precio - Demanda"
   ]
  },
  {
   "cell_type": "markdown",
   "metadata": {},
   "source": [
    "En este notebook se presenta información diaria de ventas de un artículo, registrada en distintos locales y cadenas de supermercado.\n",
    "\n",
    "El objetivo es construir un modelo de regresión capaz de predecir la cantidad de unidades vendidas por local, utilizando únicamente aquellas variables que resulten significativas como regresores, en caso de que existan.\n",
    "\n",
    "Se espera que el modelo:\n",
    "\n",
    "- Capture los patrones que explican el comportamiento de las ventas.\n",
    "- Generalice correctamente sobre nuevas observaciones.\n",
    "- Permita extraer conclusiones interpretables sobre los factores que afectan la demanda (como el precio, los feriados, la estacionalidad, entre otros)."
   ]
  },
  {
   "cell_type": "markdown",
   "metadata": {},
   "source": [
    "## Preguntas a desarrollar"
   ]
  },
  {
   "cell_type": "markdown",
   "metadata": {},
   "source": [
    "- ¿Qué tratamientos aplicarías a la data antes de modelar?\n",
    "- ¿Qué tipo de modelo de regresión lineal propondrías y por qué?\n",
    "- ¿La elasticidad precio-demanda es constante a lo largo de los meses? ¿Cómo lo justificarías?\n",
    "- ¿Qué local muestra mayor elasticidad precio-demanda? ¿Y cuál muestra menor elasticidad?"
   ]
  },
  {
   "cell_type": "markdown",
   "metadata": {},
   "source": [
    "## Fórmula de la Elasticidad Precio-Demanda\n",
    "\n",
    "La **elasticidad precio de la demanda** mide la sensibilidad de la cantidad demandada frente a cambios en el precio del producto. Se define como:\n",
    "\n",
    "$$\\text{Elasticidad} = \\frac{\\%\\ \\text{variación en la cantidad demandada}}{\\%\\ \\text{variación en el precio}} = \\frac{\\Delta Q / Q}{\\Delta P / P}$$\n",
    "\n",
    "También puede expresarse como:\n",
    "\n",
    "$$\\text{Elasticidad} = \\frac{\\Delta Q}{\\Delta P} \\cdot \\frac{P}{Q}$$\n",
    "\n",
    "Donde:\n",
    "\n",
    "- $Q$ : cantidad demandada  \n",
    "- $P$ : precio del producto  \n",
    "- $\\Delta Q$ : cambio en la cantidad demandada  \n",
    "- $\\Delta P$ : cambio en el precio"
   ]
  },
  {
   "cell_type": "markdown",
   "metadata": {},
   "source": [
    "*Sugerencia técnica:* Si lo consideras apropiado, puedes transformar las variables utilizando un modelo log-log para estimar directamente la elasticidad precio-demanda."
   ]
  },
  {
   "cell_type": "markdown",
   "metadata": {},
   "source": [
    "## Preguntas a desarrollar"
   ]
  },
  {
   "cell_type": "markdown",
   "metadata": {},
   "source": [
    "<!-- # 1. Librerias -->"
   ]
  },
  {
   "cell_type": "code",
   "execution_count": 1,
   "metadata": {},
   "outputs": [],
   "source": [
    "import pandas as pd\n",
    "from sklearn.linear_model import LinearRegression\n",
    "from sklearn.metrics import r2_score, mean_squared_error\n",
    "import numpy as np"
   ]
  },
  {
   "cell_type": "markdown",
   "metadata": {},
   "source": [
    "# 2. Data"
   ]
  },
  {
   "cell_type": "markdown",
   "metadata": {},
   "source": [
    "| Columna        | Tipo       | Descripción                                                                 |\n",
    "|----------------|------------|-----------------------------------------------------------------------------|\n",
    "| `ID_BANDERA`       | string     | Nombre o código de la cadena o supermercado                                 |\n",
    "| `ID_LOCAL` | string/int | Identificador del local                                                     |\n",
    "| `FECHA`        | date   | Fecha de la venta                                                           |\n",
    "| `MONTO`        | float      | Monto total vendido ese día en ese local                                    |\n",
    "| `CANTIDAD`     | int        | **Variable target**: cantidad de unidades vendidas ese día en ese local     |\n",
    "| `FERIADO`      | int (0/1)  | Variable binaria que indica si es un día feriado                            |\n",
    "| `DIA_01`...`DIA_07` | int (0/1)  | Variables dummies para cada día de la semana (Lunes a Domingo)          |\n",
    "| `MES_01`...`MES_12` | int (0/1)  | Variables dummies para cada mes del año (Enero a Diciembre)            |"
   ]
  },
  {
   "cell_type": "markdown",
   "metadata": {},
   "source": [
    "Donde se define el PRECIO como:\n",
    "\n",
    "$$\\text{PRECIO} = \\frac{\\text{MONTO}}{\\text{CANTIDAD}}$$"
   ]
  },
  {
   "cell_type": "code",
   "execution_count": 2,
   "metadata": {},
   "outputs": [
    {
     "data": {
      "text/html": [
       "<div>\n",
       "<style scoped>\n",
       "    .dataframe tbody tr th:only-of-type {\n",
       "        vertical-align: middle;\n",
       "    }\n",
       "\n",
       "    .dataframe tbody tr th {\n",
       "        vertical-align: top;\n",
       "    }\n",
       "\n",
       "    .dataframe thead th {\n",
       "        text-align: right;\n",
       "    }\n",
       "</style>\n",
       "<table border=\"1\" class=\"dataframe\">\n",
       "  <thead>\n",
       "    <tr style=\"text-align: right;\">\n",
       "      <th></th>\n",
       "      <th>ID_BANDERA</th>\n",
       "      <th>ID_LOCAL</th>\n",
       "      <th>FECHA</th>\n",
       "      <th>MONTO</th>\n",
       "      <th>CANTIDAD</th>\n",
       "      <th>FERIADO</th>\n",
       "      <th>DIA_1</th>\n",
       "      <th>DIA_2</th>\n",
       "      <th>DIA_3</th>\n",
       "      <th>DIA_4</th>\n",
       "      <th>...</th>\n",
       "      <th>MES_3</th>\n",
       "      <th>MES_4</th>\n",
       "      <th>MES_5</th>\n",
       "      <th>MES_6</th>\n",
       "      <th>MES_7</th>\n",
       "      <th>MES_8</th>\n",
       "      <th>MES_9</th>\n",
       "      <th>MES_10</th>\n",
       "      <th>MES_11</th>\n",
       "      <th>MES_12</th>\n",
       "    </tr>\n",
       "  </thead>\n",
       "  <tbody>\n",
       "    <tr>\n",
       "      <th>0</th>\n",
       "      <td>B</td>\n",
       "      <td>2</td>\n",
       "      <td>2024-01-21</td>\n",
       "      <td>39054.0</td>\n",
       "      <td>34</td>\n",
       "      <td>0</td>\n",
       "      <td>1</td>\n",
       "      <td>0</td>\n",
       "      <td>0</td>\n",
       "      <td>0</td>\n",
       "      <td>...</td>\n",
       "      <td>0</td>\n",
       "      <td>0</td>\n",
       "      <td>0</td>\n",
       "      <td>0</td>\n",
       "      <td>0</td>\n",
       "      <td>0</td>\n",
       "      <td>0</td>\n",
       "      <td>0</td>\n",
       "      <td>0</td>\n",
       "      <td>0</td>\n",
       "    </tr>\n",
       "    <tr>\n",
       "      <th>1</th>\n",
       "      <td>B</td>\n",
       "      <td>2</td>\n",
       "      <td>2024-01-19</td>\n",
       "      <td>32395.0</td>\n",
       "      <td>27</td>\n",
       "      <td>0</td>\n",
       "      <td>0</td>\n",
       "      <td>0</td>\n",
       "      <td>0</td>\n",
       "      <td>0</td>\n",
       "      <td>...</td>\n",
       "      <td>0</td>\n",
       "      <td>0</td>\n",
       "      <td>0</td>\n",
       "      <td>0</td>\n",
       "      <td>0</td>\n",
       "      <td>0</td>\n",
       "      <td>0</td>\n",
       "      <td>0</td>\n",
       "      <td>0</td>\n",
       "      <td>0</td>\n",
       "    </tr>\n",
       "    <tr>\n",
       "      <th>2</th>\n",
       "      <td>B</td>\n",
       "      <td>2</td>\n",
       "      <td>2024-01-07</td>\n",
       "      <td>24435.0</td>\n",
       "      <td>22</td>\n",
       "      <td>0</td>\n",
       "      <td>1</td>\n",
       "      <td>0</td>\n",
       "      <td>0</td>\n",
       "      <td>0</td>\n",
       "      <td>...</td>\n",
       "      <td>0</td>\n",
       "      <td>0</td>\n",
       "      <td>0</td>\n",
       "      <td>0</td>\n",
       "      <td>0</td>\n",
       "      <td>0</td>\n",
       "      <td>0</td>\n",
       "      <td>0</td>\n",
       "      <td>0</td>\n",
       "      <td>0</td>\n",
       "    </tr>\n",
       "    <tr>\n",
       "      <th>3</th>\n",
       "      <td>B</td>\n",
       "      <td>2</td>\n",
       "      <td>2024-01-11</td>\n",
       "      <td>10600.0</td>\n",
       "      <td>9</td>\n",
       "      <td>0</td>\n",
       "      <td>0</td>\n",
       "      <td>0</td>\n",
       "      <td>0</td>\n",
       "      <td>0</td>\n",
       "      <td>...</td>\n",
       "      <td>0</td>\n",
       "      <td>0</td>\n",
       "      <td>0</td>\n",
       "      <td>0</td>\n",
       "      <td>0</td>\n",
       "      <td>0</td>\n",
       "      <td>0</td>\n",
       "      <td>0</td>\n",
       "      <td>0</td>\n",
       "      <td>0</td>\n",
       "    </tr>\n",
       "    <tr>\n",
       "      <th>4</th>\n",
       "      <td>B</td>\n",
       "      <td>2</td>\n",
       "      <td>2024-02-28</td>\n",
       "      <td>17490.0</td>\n",
       "      <td>11</td>\n",
       "      <td>0</td>\n",
       "      <td>0</td>\n",
       "      <td>0</td>\n",
       "      <td>0</td>\n",
       "      <td>1</td>\n",
       "      <td>...</td>\n",
       "      <td>0</td>\n",
       "      <td>0</td>\n",
       "      <td>0</td>\n",
       "      <td>0</td>\n",
       "      <td>0</td>\n",
       "      <td>0</td>\n",
       "      <td>0</td>\n",
       "      <td>0</td>\n",
       "      <td>0</td>\n",
       "      <td>0</td>\n",
       "    </tr>\n",
       "  </tbody>\n",
       "</table>\n",
       "<p>5 rows × 25 columns</p>\n",
       "</div>"
      ],
      "text/plain": [
       "  ID_BANDERA  ID_LOCAL       FECHA    MONTO  CANTIDAD  FERIADO  DIA_1  DIA_2  \\\n",
       "0          B         2  2024-01-21  39054.0        34        0      1      0   \n",
       "1          B         2  2024-01-19  32395.0        27        0      0      0   \n",
       "2          B         2  2024-01-07  24435.0        22        0      1      0   \n",
       "3          B         2  2024-01-11  10600.0         9        0      0      0   \n",
       "4          B         2  2024-02-28  17490.0        11        0      0      0   \n",
       "\n",
       "   DIA_3  DIA_4  ...  MES_3  MES_4  MES_5  MES_6  MES_7  MES_8  MES_9  MES_10  \\\n",
       "0      0      0  ...      0      0      0      0      0      0      0       0   \n",
       "1      0      0  ...      0      0      0      0      0      0      0       0   \n",
       "2      0      0  ...      0      0      0      0      0      0      0       0   \n",
       "3      0      0  ...      0      0      0      0      0      0      0       0   \n",
       "4      0      1  ...      0      0      0      0      0      0      0       0   \n",
       "\n",
       "   MES_11  MES_12  \n",
       "0       0       0  \n",
       "1       0       0  \n",
       "2       0       0  \n",
       "3       0       0  \n",
       "4       0       0  \n",
       "\n",
       "[5 rows x 25 columns]"
      ]
     },
     "execution_count": 2,
     "metadata": {},
     "output_type": "execute_result"
    }
   ],
   "source": [
    "data = pd.read_csv(\"data/data.csv\")\n",
    "data.head()"
   ]
  },
  {
   "cell_type": "markdown",
   "metadata": {},
   "source": [
    "# 3. Tratamiento de Datos (POR DESARROLLAR)"
   ]
  },
  {
   "cell_type": "code",
   "execution_count": 3,
   "metadata": {},
   "outputs": [],
   "source": [
    "# Rellenar"
   ]
  },
  {
   "cell_type": "markdown",
   "metadata": {},
   "source": [
    "# 4. Modelo (POR DESARROLLAR)"
   ]
  },
  {
   "cell_type": "code",
   "execution_count": 4,
   "metadata": {},
   "outputs": [],
   "source": [
    "# Rellenar"
   ]
  },
  {
   "cell_type": "markdown",
   "metadata": {},
   "source": [
    "# Ayuda"
   ]
  },
  {
   "cell_type": "markdown",
   "metadata": {},
   "source": [
    "\n",
    "```python\n",
    "# Ajuste\n",
    "model = LinearRegression()\n",
    "model.fit(X, y)\n",
    "\n",
    "# Predicción\n",
    "y_pred = model.predict(X)\n",
    "\n",
    "# Metricas\n",
    "r2 = r2_score(y, y_pred)\n",
    "print(r2)\n",
    "rmse = mean_squared_error(y, y_pred)\n",
    "print(rmse)\n",
    "```"
   ]
  }
 ],
 "metadata": {
  "kernelspec": {
   "display_name": "test-analytics-WV8ZS69d-py3.12",
   "language": "python",
   "name": "python3"
  },
  "language_info": {
   "codemirror_mode": {
    "name": "ipython",
    "version": 3
   },
   "file_extension": ".py",
   "mimetype": "text/x-python",
   "name": "python",
   "nbconvert_exporter": "python",
   "pygments_lexer": "ipython3",
   "version": "3.12.4"
  }
 },
 "nbformat": 4,
 "nbformat_minor": 2
}
